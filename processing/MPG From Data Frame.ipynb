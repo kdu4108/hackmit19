{
 "cells": [
  {
   "cell_type": "code",
   "execution_count": 1,
   "metadata": {},
   "outputs": [],
   "source": [
    "from os import listdir\n",
    "from os.path import isfile, join\n",
    "import pandas as pd\n",
    "import numpy as np\n",
    "from raw_data_processing import get_table, remove_nan_from_table"
   ]
  },
  {
   "cell_type": "code",
   "execution_count": 2,
   "metadata": {},
   "outputs": [],
   "source": [
    "BEHAVIOR_DATA_DIR = '../data/behavior'\n",
    "BEHAVIOR_DATA_FILES = [f for f in listdir(BEHAVIOR_DATA_DIR) if isfile(join(BEHAVIOR_DATA_DIR, f))]\n",
    "BAD_DATA = ['localwithgps.json', 'driving.json']\n",
    "BEHAVIOR_DATA_FILES = [f for f in BEHAVIOR_DATA_FILES if f not in BAD_DATA]"
   ]
  },
  {
   "cell_type": "code",
   "execution_count": 3,
   "metadata": {},
   "outputs": [],
   "source": [
    "def get_accumulation_without_jumps(values, direction):\n",
    "    increments = np.diff(values)\n",
    "#     flips = np.where(increments < 0)[0]\n",
    "#     for flip in flips:\n",
    "#         print('{} to {}'.format(values[flip], values[flip+1]))\n",
    "    increments = increments[increments * direction >= 0]\n",
    "    return sum(increments)"
   ]
  },
  {
   "cell_type": "code",
   "execution_count": 4,
   "metadata": {},
   "outputs": [],
   "source": [
    "def get_miles_per_gallon(df, columns):\n",
    "    odometer = df[columns[0]]\n",
    "    fuel = df[columns[1]]\n",
    "    kilometers = get_accumulation_without_jumps(odometer, 1)\n",
    "    liters = get_accumulation_without_jumps(fuel, 1)\n",
    "    miles = kilometers * 0.621371\n",
    "    gallons = liters * 0.264172\n",
    "    return miles/gallons"
   ]
  },
  {
   "cell_type": "code",
   "execution_count": 5,
   "metadata": {},
   "outputs": [],
   "source": [
    "def capitalize(name):\n",
    "    return name[0].upper() + name[1:].lower()\n",
    "    \n",
    "def get_uppercase_name(json_name):\n",
    "    stripped = json_name.split('.')[0]\n",
    "    dashed = stripped.split('-')\n",
    "    return ' '.join([capitalize(part) for part in dashed])"
   ]
  },
  {
   "cell_type": "code",
   "execution_count": 6,
   "metadata": {},
   "outputs": [],
   "source": [
    "def get_desired_columns(df, column_groups):\n",
    "    desired_columns = []\n",
    "    for group in column_groups:\n",
    "        desired_columns.append(next((column for column in group if column in df.columns), None))\n",
    "    return desired_columns\n",
    "            "
   ]
  },
  {
   "cell_type": "code",
   "execution_count": 13,
   "metadata": {},
   "outputs": [],
   "source": [
    "data = []\n",
    "for file_name in BEHAVIOR_DATA_FILES:\n",
    "    df = get_table(join(BEHAVIOR_DATA_DIR, file_name))\n",
    "    relevant_columns = get_desired_columns(df, [['odometer', 'fine_odometer_since_restart'], ['fuel_consumed_since_restart']])\n",
    "    df = remove_nan_from_table(df, relevant_columns)\n",
    "    df = df[relevant_columns]\n",
    "    mpg = get_miles_per_gallon(df, relevant_columns)\n",
    "    display_name = get_uppercase_name(file_name)\n",
    "    data.append({'Behavior': display_name, 'MPG': mpg})"
   ]
  },
  {
   "cell_type": "code",
   "execution_count": 14,
   "metadata": {},
   "outputs": [],
   "source": [
    "df = pd.DataFrame(data)"
   ]
  },
  {
   "cell_type": "code",
   "execution_count": 15,
   "metadata": {},
   "outputs": [],
   "source": [
    "df.to_csv('mpg_data.csv')"
   ]
  }
 ],
 "metadata": {
  "kernelspec": {
   "display_name": "Python 3",
   "language": "python",
   "name": "python3"
  },
  "language_info": {
   "codemirror_mode": {
    "name": "ipython",
    "version": 3
   },
   "file_extension": ".py",
   "mimetype": "text/x-python",
   "name": "python",
   "nbconvert_exporter": "python",
   "pygments_lexer": "ipython3",
   "version": "3.7.3"
  }
 },
 "nbformat": 4,
 "nbformat_minor": 2
}

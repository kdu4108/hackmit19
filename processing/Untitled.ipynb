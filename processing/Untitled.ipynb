{
 "cells": [
  {
   "cell_type": "code",
   "execution_count": 1,
   "metadata": {},
   "outputs": [],
   "source": [
    "import json\n",
    "import numpy as np\n",
    "import pandas as pd\n",
    "import raw_data_processing as rdp"
   ]
  },
  {
   "cell_type": "code",
   "execution_count": 2,
   "metadata": {
    "collapsed": true
   },
   "outputs": [],
   "source": [
    "def liters_to_gallons(liters): return liters/3.785"
   ]
  },
  {
   "cell_type": "code",
   "execution_count": 26,
   "metadata": {},
   "outputs": [],
   "source": [
    "def write_time_vs_speed_data_to_csv(data):\n",
    "    table = rdp.get_table(data)\n",
    "    cols_wanted = ['timestamp','vehicle_speed', 'fuel_consumed_since_restart','odometer']\n",
    "    cols_to_delete = []\n",
    "    for col in list(table):\n",
    "        if col not in cols_wanted:\n",
    "            cols_to_delete.append(col)\n",
    "    table = table.drop(cols_to_delete, axis=1)\n",
    "    table = rdp.remove_nan_from_table(table, cols_wanted)\n",
    "    np_delta_d = np.diff(table['odometer'], n = 1000)\n",
    "    print(len(np_delta_d))\n",
    "    np_delta_f = np.diff(table['fuel_consumed_since_restart'], n = 1000)\n",
    "    print(np.argmax(np_delta_f))\n",
    "    print(np_delta_d[11811])\n",
    "    np_mpg = np.divide(np_delta_d, np_delta_f, out = np.zeros_like(np_delta_d), where=np_delta_f != 0)\n",
    "    print(max(np_mpg))\n",
    "    print(len([0, 0] + list(np_mpg)))\n",
    "    print(len(table))\n",
    "    table['instantaneous_mpg'] = [0] *1000 + list(np_mpg)\n",
    "    print(table.shape)\n",
    "    table.drop(table.columns.difference([\"timestamp\", \"vehicle_speed\"]), 1, inplace=True)\n",
    "    table.to_csv('time_v_speed.csv')\n",
    "    return table"
   ]
  },
  {
   "cell_type": "code",
   "execution_count": 27,
   "metadata": {},
   "outputs": [
    {
     "name": "stdout",
     "output_type": "stream",
     "text": [
      "74693\n",
      "46826\n",
      "-3.193576962722691e+296\n",
      "7.250038025064129e+300\n",
      "74695\n",
      "75693\n",
      "(75693, 5)\n"
     ]
    },
    {
     "data": {
      "text/html": [
       "<div>\n",
       "<style scoped>\n",
       "    .dataframe tbody tr th:only-of-type {\n",
       "        vertical-align: middle;\n",
       "    }\n",
       "\n",
       "    .dataframe tbody tr th {\n",
       "        vertical-align: top;\n",
       "    }\n",
       "\n",
       "    .dataframe thead th {\n",
       "        text-align: right;\n",
       "    }\n",
       "</style>\n",
       "<table border=\"1\" class=\"dataframe\">\n",
       "  <thead>\n",
       "    <tr style=\"text-align: right;\">\n",
       "      <th></th>\n",
       "      <th>timestamp</th>\n",
       "      <th>vehicle_speed</th>\n",
       "    </tr>\n",
       "  </thead>\n",
       "  <tbody>\n",
       "    <tr>\n",
       "      <td>0</td>\n",
       "      <td>1.361455e+09</td>\n",
       "      <td>0.000000</td>\n",
       "    </tr>\n",
       "    <tr>\n",
       "      <td>1</td>\n",
       "      <td>1.361455e+09</td>\n",
       "      <td>0.000000</td>\n",
       "    </tr>\n",
       "    <tr>\n",
       "      <td>2</td>\n",
       "      <td>1.361455e+09</td>\n",
       "      <td>0.000000</td>\n",
       "    </tr>\n",
       "    <tr>\n",
       "      <td>3</td>\n",
       "      <td>1.361455e+09</td>\n",
       "      <td>0.000000</td>\n",
       "    </tr>\n",
       "    <tr>\n",
       "      <td>4</td>\n",
       "      <td>1.361455e+09</td>\n",
       "      <td>0.000000</td>\n",
       "    </tr>\n",
       "    <tr>\n",
       "      <td>...</td>\n",
       "      <td>...</td>\n",
       "      <td>...</td>\n",
       "    </tr>\n",
       "    <tr>\n",
       "      <td>75688</td>\n",
       "      <td>1.361455e+09</td>\n",
       "      <td>57.479996</td>\n",
       "    </tr>\n",
       "    <tr>\n",
       "      <td>75689</td>\n",
       "      <td>1.361455e+09</td>\n",
       "      <td>57.479996</td>\n",
       "    </tr>\n",
       "    <tr>\n",
       "      <td>75690</td>\n",
       "      <td>1.361455e+09</td>\n",
       "      <td>57.479996</td>\n",
       "    </tr>\n",
       "    <tr>\n",
       "      <td>75691</td>\n",
       "      <td>1.361455e+09</td>\n",
       "      <td>57.479996</td>\n",
       "    </tr>\n",
       "    <tr>\n",
       "      <td>75692</td>\n",
       "      <td>1.361455e+09</td>\n",
       "      <td>57.479996</td>\n",
       "    </tr>\n",
       "  </tbody>\n",
       "</table>\n",
       "<p>75693 rows × 2 columns</p>\n",
       "</div>"
      ],
      "text/plain": [
       "          timestamp  vehicle_speed\n",
       "0      1.361455e+09       0.000000\n",
       "1      1.361455e+09       0.000000\n",
       "2      1.361455e+09       0.000000\n",
       "3      1.361455e+09       0.000000\n",
       "4      1.361455e+09       0.000000\n",
       "...             ...            ...\n",
       "75688  1.361455e+09      57.479996\n",
       "75689  1.361455e+09      57.479996\n",
       "75690  1.361455e+09      57.479996\n",
       "75691  1.361455e+09      57.479996\n",
       "75692  1.361455e+09      57.479996\n",
       "\n",
       "[75693 rows x 2 columns]"
      ]
     },
     "execution_count": 27,
     "metadata": {},
     "output_type": "execute_result"
    }
   ],
   "source": [
    "df = write_time_vs_speed_data_to_csv('highway-speeding.json')\n",
    "df"
   ]
  },
  {
   "cell_type": "code",
   "execution_count": 15,
   "metadata": {},
   "outputs": [
    {
     "data": {
      "text/plain": [
       "'0.25.1'"
      ]
     },
     "execution_count": 15,
     "metadata": {},
     "output_type": "execute_result"
    }
   ],
   "source": [
    "pd.__version__"
   ]
  },
  {
   "cell_type": "code",
   "execution_count": 16,
   "metadata": {},
   "outputs": [],
   "source": [
    "df.drop(df.columns.difference([\"timestamp\", \"instantaneous_mpg\"]), 1, inplace=True)"
   ]
  },
  {
   "cell_type": "code",
   "execution_count": 17,
   "metadata": {},
   "outputs": [
    {
     "data": {
      "text/html": [
       "<div>\n",
       "<style scoped>\n",
       "    .dataframe tbody tr th:only-of-type {\n",
       "        vertical-align: middle;\n",
       "    }\n",
       "\n",
       "    .dataframe tbody tr th {\n",
       "        vertical-align: top;\n",
       "    }\n",
       "\n",
       "    .dataframe thead th {\n",
       "        text-align: right;\n",
       "    }\n",
       "</style>\n",
       "<table border=\"1\" class=\"dataframe\">\n",
       "  <thead>\n",
       "    <tr style=\"text-align: right;\">\n",
       "      <th></th>\n",
       "      <th>timestamp</th>\n",
       "      <th>instantaneous_mpg</th>\n",
       "    </tr>\n",
       "  </thead>\n",
       "  <tbody>\n",
       "    <tr>\n",
       "      <td>0</td>\n",
       "      <td>1.361455e+09</td>\n",
       "      <td>0.000000</td>\n",
       "    </tr>\n",
       "    <tr>\n",
       "      <td>1</td>\n",
       "      <td>1.361455e+09</td>\n",
       "      <td>0.000000</td>\n",
       "    </tr>\n",
       "    <tr>\n",
       "      <td>2</td>\n",
       "      <td>1.361455e+09</td>\n",
       "      <td>0.000000</td>\n",
       "    </tr>\n",
       "    <tr>\n",
       "      <td>3</td>\n",
       "      <td>1.361455e+09</td>\n",
       "      <td>0.000000</td>\n",
       "    </tr>\n",
       "    <tr>\n",
       "      <td>4</td>\n",
       "      <td>1.361455e+09</td>\n",
       "      <td>0.000000</td>\n",
       "    </tr>\n",
       "    <tr>\n",
       "      <td>...</td>\n",
       "      <td>...</td>\n",
       "      <td>...</td>\n",
       "    </tr>\n",
       "    <tr>\n",
       "      <td>75688</td>\n",
       "      <td>1.361455e+09</td>\n",
       "      <td>37.245326</td>\n",
       "    </tr>\n",
       "    <tr>\n",
       "      <td>75689</td>\n",
       "      <td>1.361455e+09</td>\n",
       "      <td>25.652859</td>\n",
       "    </tr>\n",
       "    <tr>\n",
       "      <td>75690</td>\n",
       "      <td>1.361455e+09</td>\n",
       "      <td>15.733931</td>\n",
       "    </tr>\n",
       "    <tr>\n",
       "      <td>75691</td>\n",
       "      <td>1.361455e+09</td>\n",
       "      <td>7.253769</td>\n",
       "    </tr>\n",
       "    <tr>\n",
       "      <td>75692</td>\n",
       "      <td>1.361455e+09</td>\n",
       "      <td>0.010961</td>\n",
       "    </tr>\n",
       "  </tbody>\n",
       "</table>\n",
       "<p>75693 rows × 2 columns</p>\n",
       "</div>"
      ],
      "text/plain": [
       "          timestamp  instantaneous_mpg\n",
       "0      1.361455e+09           0.000000\n",
       "1      1.361455e+09           0.000000\n",
       "2      1.361455e+09           0.000000\n",
       "3      1.361455e+09           0.000000\n",
       "4      1.361455e+09           0.000000\n",
       "...             ...                ...\n",
       "75688  1.361455e+09          37.245326\n",
       "75689  1.361455e+09          25.652859\n",
       "75690  1.361455e+09          15.733931\n",
       "75691  1.361455e+09           7.253769\n",
       "75692  1.361455e+09           0.010961\n",
       "\n",
       "[75693 rows x 2 columns]"
      ]
     },
     "execution_count": 17,
     "metadata": {},
     "output_type": "execute_result"
    }
   ],
   "source": [
    "df"
   ]
  },
  {
   "cell_type": "code",
   "execution_count": 18,
   "metadata": {},
   "outputs": [
    {
     "data": {
      "text/plain": [
       "<matplotlib.axes._subplots.AxesSubplot at 0x10e244a90>"
      ]
     },
     "execution_count": 18,
     "metadata": {},
     "output_type": "execute_result"
    }
   ],
   "source": [
    "df.plot(x = \"timestamp\", y=\"instantaneous_mpg\", kind=\"line\")"
   ]
  },
  {
   "cell_type": "code",
   "execution_count": 19,
   "metadata": {},
   "outputs": [
    {
     "data": {
      "image/png": "[encoded data removed]",
      "text/plain": [
       "<matplotlib.figure.Figure at 0x10d94f320>"
      ]
     },
     "metadata": {},
     "output_type": "display_data"
    }
   ],
   "source": [
    "plt.show()\n"
   ]
  },
  {
   "cell_type": "code",
   "execution_count": 12,
   "metadata": {},
   "outputs": [
    {
     "data": {
      "image/png": "[encoded data removed]",
      "text/plain": [
       "<matplotlib.figure.Figure at 0x101e01f98>"
      ]
     },
     "metadata": {},
     "output_type": "display_data"
    }
   ],
   "source": [
    "import matplotlib.pyplot as plt\n",
    "plt.show()"
   ]
  },
  {
   "cell_type": "code",
   "execution_count": null,
   "metadata": {},
   "outputs": [],
   "source": [
    "print(df[df[\"instantaneous_mpg\"] != 0])"
   ]
  },
  {
   "cell_type": "code",
   "execution_count": null,
   "metadata": {},
   "outputs": [],
   "source": [
    "np.repeat([1,2,3], 2)"
   ]
  },
  {
   "cell_type": "code",
   "execution_count": null,
   "metadata": {
    "collapsed": true
   },
   "outputs": [],
   "source": []
  }
 ],
 "metadata": {
  "kernelspec": {
   "display_name": "Python 3",
   "language": "python",
   "name": "python3"
  },
  "language_info": {
   "codemirror_mode": {
    "name": "ipython",
    "version": 3
   },
   "file_extension": ".py",
   "mimetype": "text/x-python",
   "name": "python",
   "nbconvert_exporter": "python",
   "pygments_lexer": "ipython3",
   "version": "3.6.1"
  }
 },
 "nbformat": 4,
 "nbformat_minor": 2
}

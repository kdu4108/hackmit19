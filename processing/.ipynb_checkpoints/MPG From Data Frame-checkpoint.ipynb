{
 "cells": [
  {
   "cell_type": "code",
   "execution_count": 47,
   "metadata": {},
   "outputs": [],
   "source": [
    "from os import listdir\n",
    "from os.path import isfile, join\n",
    "import pandas as pd\n",
    "import numpy as np\n",
    "from raw_data_processing import get_table, remove_nan_from_table"
   ]
  },
  {
   "cell_type": "code",
   "execution_count": 3,
   "metadata": {},
   "outputs": [],
   "source": [
    "BEHAVIOR_DATA_DIR = '../data/behavior'\n",
    "BEHAVIOR_DATA_FILES = [f for f in listdir(BEHAVIOR_DATA_DIR) if isfile(join(BEHAVIOR_DATA_DIR, f))]"
   ]
  },
  {
   "cell_type": "code",
   "execution_count": 144,
   "metadata": {},
   "outputs": [],
   "source": [
    "def get_accumulation_without_jumps(values, direction):\n",
    "    increments = np.diff(values)\n",
    "#     flips = np.where(increments < 0)[0]\n",
    "#     for flip in flips:\n",
    "#         print('{} to {}'.format(values[flip], values[flip+1]))\n",
    "    increments = increments[increments * direction >= 0]\n",
    "    return sum(increments)"
   ]
  },
  {
   "cell_type": "code",
   "execution_count": 145,
   "metadata": {},
   "outputs": [],
   "source": [
    "def get_miles_per_gallon(df, columns):\n",
    "    odometer = df[columns[0]]\n",
    "    fuel = df[columns[1]]\n",
    "    kilometers = get_accumulation_without_jumps(odometer, 1)\n",
    "    liters = get_accumulation_without_jumps(fuel, 1)\n",
    "    miles = kilometers * 0.621371\n",
    "    gallons = liters * 0.264172\n",
    "    return miles/gallons"
   ]
  },
  {
   "cell_type": "code",
   "execution_count": 5,
   "metadata": {},
   "outputs": [],
   "source": [
    "def capitalize(name):\n",
    "    return name[0].upper() + name[1:].lower()\n",
    "    \n",
    "def get_uppercase_name(json_name):\n",
    "    stripped = json_name.split('.')[0]\n",
    "    dashed = stripped.split('-')\n",
    "    return ' '.join([capitalize(part) for part in dashed])"
   ]
  },
  {
   "cell_type": "code",
   "execution_count": 22,
   "metadata": {},
   "outputs": [],
   "source": [
    "def get_desired_columns(df, column_groups):\n",
    "    desired_columns = []\n",
    "    for group in column_groups:\n",
    "        desired_columns.append(next((column for column in group if column in df.columns), None))\n",
    "    return desired_columns\n",
    "            "
   ]
  },
  {
   "cell_type": "code",
   "execution_count": 146,
   "metadata": {},
   "outputs": [
    {
     "name": "stdout",
     "output_type": "stream",
     "text": [
      "43590.984375 to 0.0\n",
      "3.365573 to 3.365494\n",
      "3.385604 to 3.385524\n",
      "3.425748 to 3.425669\n",
      "3.525908 to 3.525748\n",
      "3.545938 to 3.545779\n",
      "3.565968 to 3.565809\n",
      "3.606027 to 3.605868\n",
      "3.646091 to 3.646012\n",
      "3.686151 to 3.686072\n",
      "3.726216 to 3.726137\n",
      "3.766198 to 3.766119\n",
      "3.786231 to 3.786152\n",
      "3.806345 to 3.806186\n",
      "3.826375 to 3.826296\n",
      "3.866438 to 3.866359\n",
      "3.886391 to 3.886312\n",
      "3.906424 to 3.906345\n",
      "3.926458 to 3.926378\n",
      "3.966604 to 3.966524\n",
      "3.986557 to 3.986478\n",
      "4.066694 to 4.066615\n",
      "4.106767 to 4.106688\n",
      "4.146834 to 4.146755\n",
      "4.166863 to 4.166784\n",
      "4.227046 to 4.226966\n",
      "4.307178 to 4.307098\n",
      "4.327123 to 4.327043\n",
      "4.347235 to 4.347155\n",
      "4.367259 to 4.367179\n",
      "4.407322 to 4.407243\n",
      "4.44738 to 4.447221\n",
      "4.467414 to 4.467255\n",
      "4.567573 to 4.567493\n",
      "4.647716 to 4.647557\n",
      "4.707816 to 4.707736\n",
      "4.72786 to 4.727702\n",
      "4.747898 to 4.747739\n",
      "4.767964 to 4.767806\n",
      "4.769159 to 0.003259\n",
      "0.020191 to 0.020112\n",
      "0.080289 to 0.080209\n",
      "0.100321 to 0.100162\n",
      "0.120353 to 0.120194\n",
      "0.200483 to 0.200324\n",
      "0.220515 to 0.220356\n",
      "0.280612 to 0.280453\n",
      "0.300644 to 0.300565\n",
      "0.320675 to 0.320516\n",
      "0.340705 to 0.340626\n",
      "0.400802 to 0.400722\n",
      "0.420835 to 0.420755\n",
      "0.440866 to 0.440707\n",
      "0.48093 to 0.480771\n",
      "0.500962 to 0.500803\n",
      "0.541032 to 0.540952\n"
     ]
    }
   ],
   "source": [
    "data = {}\n",
    "\n",
    "for file_name in BEHAVIOR_DATA_FILES[4:5]:\n",
    "    df = get_table(join(BEHAVIOR_DATA_DIR, file_name))\n",
    "    relevant_columns = get_desired_columns(df, [['odometer', 'fine_odometer_since_restart'], ['fuel_consumed_since_restart']])\n",
    "    df = remove_nan_from_table(df, relevant_columns)\n",
    "    df = df[relevant_columns]\n",
    "    mpg = get_miles_per_gallon(df, relevant_columns)\n",
    "    display_name = get_uppercase_name(file_name)\n",
    "    data[display_name] = mpg"
   ]
  },
  {
   "cell_type": "code",
   "execution_count": 143,
   "metadata": {},
   "outputs": [
    {
     "data": {
      "text/plain": [
       "51678.79617089712"
      ]
     },
     "execution_count": 143,
     "metadata": {},
     "output_type": "execute_result"
    }
   ],
   "source": [
    "get_miles_per_gallon(df, relevant_columns)"
   ]
  },
  {
   "cell_type": "code",
   "execution_count": 59,
   "metadata": {},
   "outputs": [
    {
     "data": {
      "text/plain": [
       "'localwithgps.json'"
      ]
     },
     "execution_count": 59,
     "metadata": {},
     "output_type": "execute_result"
    }
   ],
   "source": [
    "file_name"
   ]
  },
  {
   "cell_type": "code",
   "execution_count": null,
   "metadata": {},
   "outputs": [],
   "source": []
  }
 ],
 "metadata": {
  "kernelspec": {
   "display_name": "Python 3",
   "language": "python",
   "name": "python3"
  },
  "language_info": {
   "codemirror_mode": {
    "name": "ipython",
    "version": 3
   },
   "file_extension": ".py",
   "mimetype": "text/x-python",
   "name": "python",
   "nbconvert_exporter": "python",
   "pygments_lexer": "ipython3",
   "version": "3.7.3"
  }
 },
 "nbformat": 4,
 "nbformat_minor": 2
}

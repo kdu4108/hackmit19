{
 "cells": [
  {
   "cell_type": "code",
   "execution_count": 1,
   "metadata": {},
   "outputs": [],
   "source": [
    "from os import listdir\n",
    "from os.path import isfile, join\n",
    "import pandas as pd\n",
    "import numpy as np\n",
    "from raw_data_processing import get_table, remove_nan_from_table"
   ]
  },
  {
   "cell_type": "code",
   "execution_count": null,
   "metadata": {},
   "outputs": [],
   "source": [
    "class Search:\n",
    "    def __init__(self, search, window):\n",
    "        if window[1] - window[0] != 0 and not callable(search):\n",
    "            raise ValueError('Cannot create search windows ')\n",
    "            \n",
    "        self.search = search\n",
    "        self.window = window\n",
    "    \n",
    "    def match(self, series):\n",
    "        if isinstance(self.search, dict):\n",
    "            "
   ]
  },
  {
   "cell_type": "code",
   "execution_count": 2,
   "metadata": {},
   "outputs": [],
   "source": [
    "class AttributeSearcher:\n",
    "    def __init__(self, name, search):\n",
    "        self.name = name\n",
    "        self.search = search\n",
    "    \n",
    "    def matches(self, df, index):\n",
    "        "
   ]
  },
  {
   "cell_type": "code",
   "execution_count": null,
   "metadata": {},
   "outputs": [],
   "source": [
    "class Behavior:\n",
    "    def __init__(self, title, definition):\n",
    "        self.title = title\n",
    "        self.definition = definition\n",
    "    \n",
    "    def search(self, df):\n",
    "        for attribute in definition:\n",
    "            window = attribute.search_window\n",
    "            "
   ]
  }
 ],
 "metadata": {
  "kernelspec": {
   "display_name": "Python 3",
   "language": "python",
   "name": "python3"
  },
  "language_info": {
   "codemirror_mode": {
    "name": "ipython",
    "version": 3
   },
   "file_extension": ".py",
   "mimetype": "text/x-python",
   "name": "python",
   "nbconvert_exporter": "python",
   "pygments_lexer": "ipython3",
   "version": "3.7.3"
  }
 },
 "nbformat": 4,
 "nbformat_minor": 2
}

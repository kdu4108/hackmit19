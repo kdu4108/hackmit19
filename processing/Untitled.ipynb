{
 "cells": [
  {
   "cell_type": "code",
   "execution_count": 1,
   "metadata": {},
   "outputs": [],
   "source": [
    "import json\n",
    "import numpy as py\n",
    "import pandas as pd\n",
    "import raw_data_processing as rdp"
   ]
  },
  {
   "cell_type": "code",
   "execution_count": 2,
   "metadata": {
    "collapsed": true
   },
   "outputs": [],
   "source": [
    "def liters_to_gallons(liters): return liters/3.785"
   ]
  },
  {
   "cell_type": "code",
   "execution_count": 21,
   "metadata": {},
   "outputs": [],
   "source": [
    "def write_time_vs_speed_data_to_csv(data):\n",
    "    table = rdp.get_table(data)\n",
    "    cols_wanted = ['timestamp','vehicle_speed', 'fuel_consumed_since_restart','odometer']\n",
    "    cols_to_delete = []\n",
    "    for col in list(table):\n",
    "        if col not in cols_wanted:\n",
    "            cols_to_delete.append(col)\n",
    "    table = table.drop(cols_to_delete, axis=1)\n",
    "    table = rdp.remove_nan_from_table(table, cols_wanted)\n",
    "    mpg = [0]\n",
    "    for r in range(1,len(table)):\n",
    "        delta_d = table['odometer'][r] - table['odometer'][r]\n",
    "        delta_f = table['fuel_consumed_since_restart'][r] - table['odometer'][r]\n",
    "        inst_mpg = delta_d/delta_f\n",
    "        mpg.append(inst_mpg)\n",
    "    table['instantaneous_mpg'] = mpg\n",
    "    table.to_csv('time_v_speed.csv')\n",
    "    return table"
   ]
  },
  {
   "cell_type": "code",
   "execution_count": 22,
   "metadata": {},
   "outputs": [
    {
     "data": {
      "text/html": [
       "<div>\n",
       "<style scoped>\n",
       "    .dataframe tbody tr th:only-of-type {\n",
       "        vertical-align: middle;\n",
       "    }\n",
       "\n",
       "    .dataframe tbody tr th {\n",
       "        vertical-align: top;\n",
       "    }\n",
       "\n",
       "    .dataframe thead th {\n",
       "        text-align: right;\n",
       "    }\n",
       "</style>\n",
       "<table border=\"1\" class=\"dataframe\">\n",
       "  <thead>\n",
       "    <tr style=\"text-align: right;\">\n",
       "      <th></th>\n",
       "      <th>timestamp</th>\n",
       "      <th>vehicle_speed</th>\n",
       "      <th>fuel_consumed_since_restart</th>\n",
       "      <th>odometer</th>\n",
       "      <th>instantaneous_mpg</th>\n",
       "    </tr>\n",
       "  </thead>\n",
       "  <tbody>\n",
       "    <tr>\n",
       "      <td>0</td>\n",
       "      <td>1.361454e+09</td>\n",
       "      <td>0.0</td>\n",
       "      <td>0.326952</td>\n",
       "      <td>43424.027344</td>\n",
       "      <td>0.0</td>\n",
       "    </tr>\n",
       "    <tr>\n",
       "      <td>1</td>\n",
       "      <td>1.361454e+09</td>\n",
       "      <td>0.0</td>\n",
       "      <td>0.326952</td>\n",
       "      <td>43424.027344</td>\n",
       "      <td>-0.0</td>\n",
       "    </tr>\n",
       "    <tr>\n",
       "      <td>2</td>\n",
       "      <td>1.361454e+09</td>\n",
       "      <td>0.0</td>\n",
       "      <td>0.326952</td>\n",
       "      <td>43424.027344</td>\n",
       "      <td>-0.0</td>\n",
       "    </tr>\n",
       "    <tr>\n",
       "      <td>3</td>\n",
       "      <td>1.361454e+09</td>\n",
       "      <td>0.0</td>\n",
       "      <td>0.326952</td>\n",
       "      <td>43424.027344</td>\n",
       "      <td>-0.0</td>\n",
       "    </tr>\n",
       "    <tr>\n",
       "      <td>4</td>\n",
       "      <td>1.361454e+09</td>\n",
       "      <td>0.0</td>\n",
       "      <td>0.326952</td>\n",
       "      <td>43424.027344</td>\n",
       "      <td>-0.0</td>\n",
       "    </tr>\n",
       "    <tr>\n",
       "      <td>...</td>\n",
       "      <td>...</td>\n",
       "      <td>...</td>\n",
       "      <td>...</td>\n",
       "      <td>...</td>\n",
       "      <td>...</td>\n",
       "    </tr>\n",
       "    <tr>\n",
       "      <td>93492</td>\n",
       "      <td>1.361455e+09</td>\n",
       "      <td>0.0</td>\n",
       "      <td>0.958856</td>\n",
       "      <td>43427.453125</td>\n",
       "      <td>-0.0</td>\n",
       "    </tr>\n",
       "    <tr>\n",
       "      <td>93493</td>\n",
       "      <td>1.361455e+09</td>\n",
       "      <td>0.0</td>\n",
       "      <td>0.958856</td>\n",
       "      <td>43427.453125</td>\n",
       "      <td>-0.0</td>\n",
       "    </tr>\n",
       "    <tr>\n",
       "      <td>93494</td>\n",
       "      <td>1.361455e+09</td>\n",
       "      <td>0.0</td>\n",
       "      <td>0.958856</td>\n",
       "      <td>43427.453125</td>\n",
       "      <td>-0.0</td>\n",
       "    </tr>\n",
       "    <tr>\n",
       "      <td>93495</td>\n",
       "      <td>1.361455e+09</td>\n",
       "      <td>0.0</td>\n",
       "      <td>0.958856</td>\n",
       "      <td>43427.453125</td>\n",
       "      <td>-0.0</td>\n",
       "    </tr>\n",
       "    <tr>\n",
       "      <td>93496</td>\n",
       "      <td>1.361455e+09</td>\n",
       "      <td>0.0</td>\n",
       "      <td>0.958856</td>\n",
       "      <td>43427.453125</td>\n",
       "      <td>-0.0</td>\n",
       "    </tr>\n",
       "  </tbody>\n",
       "</table>\n",
       "<p>93497 rows × 5 columns</p>\n",
       "</div>"
      ],
      "text/plain": [
       "          timestamp  vehicle_speed  fuel_consumed_since_restart      odometer  \\\n",
       "0      1.361454e+09            0.0                     0.326952  43424.027344   \n",
       "1      1.361454e+09            0.0                     0.326952  43424.027344   \n",
       "2      1.361454e+09            0.0                     0.326952  43424.027344   \n",
       "3      1.361454e+09            0.0                     0.326952  43424.027344   \n",
       "4      1.361454e+09            0.0                     0.326952  43424.027344   \n",
       "...             ...            ...                          ...           ...   \n",
       "93492  1.361455e+09            0.0                     0.958856  43427.453125   \n",
       "93493  1.361455e+09            0.0                     0.958856  43427.453125   \n",
       "93494  1.361455e+09            0.0                     0.958856  43427.453125   \n",
       "93495  1.361455e+09            0.0                     0.958856  43427.453125   \n",
       "93496  1.361455e+09            0.0                     0.958856  43427.453125   \n",
       "\n",
       "       instantaneous_mpg  \n",
       "0                    0.0  \n",
       "1                   -0.0  \n",
       "2                   -0.0  \n",
       "3                   -0.0  \n",
       "4                   -0.0  \n",
       "...                  ...  \n",
       "93492               -0.0  \n",
       "93493               -0.0  \n",
       "93494               -0.0  \n",
       "93495               -0.0  \n",
       "93496               -0.0  \n",
       "\n",
       "[93497 rows x 5 columns]"
      ]
     },
     "execution_count": 22,
     "metadata": {},
     "output_type": "execute_result"
    }
   ],
   "source": [
    "write_time_vs_speed_data_to_csv('aggressive-driving.json')"
   ]
  },
  {
   "cell_type": "code",
   "execution_count": 11,
   "metadata": {},
   "outputs": [
    {
     "data": {
      "text/plain": [
       "'0.25.1'"
      ]
     },
     "execution_count": 11,
     "metadata": {},
     "output_type": "execute_result"
    }
   ],
   "source": [
    "pd.__version__"
   ]
  },
  {
   "cell_type": "code",
   "execution_count": null,
   "metadata": {
    "collapsed": true
   },
   "outputs": [],
   "source": []
  },
  {
   "cell_type": "code",
   "execution_count": null,
   "metadata": {
    "collapsed": true
   },
   "outputs": [],
   "source": []
  },
  {
   "cell_type": "code",
   "execution_count": null,
   "metadata": {
    "collapsed": true
   },
   "outputs": [],
   "source": []
  }
 ],
 "metadata": {
  "kernelspec": {
   "display_name": "Python 3",
   "language": "python",
   "name": "python3"
  },
  "language_info": {
   "codemirror_mode": {
    "name": "ipython",
    "version": 3
   },
   "file_extension": ".py",
   "mimetype": "text/x-python",
   "name": "python",
   "nbconvert_exporter": "python",
   "pygments_lexer": "ipython3",
   "version": "3.6.1"
  }
 },
 "nbformat": 4,
 "nbformat_minor": 2
}

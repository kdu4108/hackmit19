{
 "cells": [
  {
   "cell_type": "code",
   "execution_count": null,
   "metadata": {},
   "outputs": [],
   "source": [
    "import json\n",
    "import os\n",
    "import numpy as np\n",
    "import pandas as pd\n",
    "import raw_data_processing as rdp\n",
    "import matplotlib\n",
    "from raw_data_processing import get_table, remove_nan_from_table"
   ]
  },
  {
   "cell_type": "code",
   "execution_count": null,
   "metadata": {
    "collapsed": true
   },
   "outputs": [],
   "source": [
    "def write_time_vs_speed_data_to_csv(filename):\n",
    "    table = rdp.get_table(filename)\n",
    "    cols_wanted = ['timestamp','vehicle_speed', 'fuel_consumed_since_restart','odometer']\n",
    "    cols_to_delete = []\n",
    "    for col in list(table):\n",
    "        if col not in cols_wanted:\n",
    "            cols_to_delete.append(col)\n",
    "    table = table.drop(cols_to_delete, axis=1)\n",
    "    table = rdp.remove_nan_from_table(table, cols_wanted)\n",
    "    np_delta_d = np.diff(table['odometer'], n = 1)\n",
    "    np_delta_f = np.diff(table['fuel_consumed_since_restart'], n = 1)\n",
    "    np_mpg = np.divide(np_delta_d, np_delta_f, out = np.zeros_like(np_delta_d), where=np_delta_f != 0)\n",
    "    table['instantaneous_mpg'] = [0] *1 + list(np_mpg)\n",
    "    table.loc[table['instantaneous_mpg'] <= 0,'instantaneous_mpg'] = np.nan\n",
    "    table.loc[table['instantaneous_mpg'] >= 100,'instantaneous_mpg'] = np.nan\n",
    "    table = table.interpolate(method=\"linear\", limit=1000)\n",
    "    table[['instantaneous_mpg']] = table[['instantaneous_mpg']].fillna(value=0)\n",
    "    table.drop(table.columns.difference([\"timestamp\", \"vehicle_speed\", \"instantaneous_mpg\"]), 1, inplace=True)\n",
    "    behavior = filename.split(\"/\")[-1][:-5]\n",
    "    table.to_csv(f\"../data/time_v_speed_and_mpg/{behavior}.csv\")\n",
    "    return table"
   ]
  },
  {
   "cell_type": "code",
   "execution_count": null,
   "metadata": {},
   "outputs": [],
   "source": [
    "def write_mpg_vs_behavior_data_to_csv():\n",
    "    BEHAVIOR_DATA_DIR = '../data/behavior'\n",
    "    BEHAVIOR_DATA_FILES = [f for f in listdir(BEHAVIOR_DATA_DIR) if isfile(join(BEHAVIOR_DATA_DIR, f))]\n",
    "    BAD_DATA = ['localwithgps.json', 'driving.json']\n",
    "    BEHAVIOR_DATA_FILES = [f for f in BEHAVIOR_DATA_FILES if f not in BAD_DATA]\n",
    "    \n",
    "    def get_accumulation_without_jumps(values, direction):\n",
    "        increments = np.diff(values)\n",
    "        increments = increments[increments * direction >= 0]\n",
    "        return sum(increments)\n",
    "    \n",
    "    def get_miles_per_gallon(df, columns):\n",
    "        odometer = df[columns[0]]\n",
    "        fuel = df[columns[1]]\n",
    "        kilometers = get_accumulation_without_jumps(odometer, 1)\n",
    "        liters = get_accumulation_without_jumps(fuel, 1)\n",
    "        miles = kilometers * 0.621371\n",
    "        gallons = liters * 0.264172\n",
    "        return miles/gallons\n",
    "    \n",
    "    def capitalize(name):\n",
    "        return name[0].upper() + name[1:].lower()\n",
    "    \n",
    "    def get_uppercase_name(json_name):\n",
    "        stripped = json_name.split('.')[0]\n",
    "        dashed = stripped.split('-')\n",
    "        return ' '.join([capitalize(part) for part in dashed])\n",
    "    \n",
    "    def get_desired_columns(df, column_groups):\n",
    "        desired_columns = []\n",
    "        for group in column_groups:\n",
    "            desired_columns.append(next((column for column in group if column in df.columns), None))\n",
    "        return desired_columns\n",
    "    \n",
    "    data = []\n",
    "    for file_name in BEHAVIOR_DATA_FILES:\n",
    "        df = get_table(join(BEHAVIOR_DATA_DIR, file_name))\n",
    "        relevant_columns = get_desired_columns(df, [['odometer', 'fine_odometer_since_restart'], ['fuel_consumed_since_restart']])\n",
    "        df = remove_nan_from_table(df, relevant_columns)\n",
    "        df = df[relevant_columns]\n",
    "        mpg = get_miles_per_gallon(df, relevant_columns)\n",
    "        display_name = get_uppercase_name(file_name)\n",
    "        data.append({'Behavior': display_name, 'MPG': mpg})\n",
    "        \n",
    "    df = pd.DataFrame(data)\n",
    "    df.to_csv('mpg_data.csv')\n",
    "            \n",
    "    \n",
    "def main():\n",
    "    for filename in os.listdir(\"../data/behavior\"):\n",
    "        print(os.listdir(\"../data/behavior\"))\n",
    "        if filename != 'parked.json': \n",
    "            write_time_vs_speed_data_to_csv(\"../data/behavior/\"+filename)\n",
    "        else:\n",
    "            continue\n",
    "\n",
    "    write_mpg_vs_behavior_data_to_csv()\n",
    "\n",
    "if __name__ == \"__main__\":\n",
    "    main()"
   ]
  },
  {
   "cell_type": "code",
   "execution_count": null,
   "metadata": {
    "collapsed": true
   },
   "outputs": [],
   "source": []
  },
  {
   "cell_type": "code",
   "execution_count": null,
   "metadata": {
    "collapsed": true
   },
   "outputs": [],
   "source": []
  }
 ],
 "metadata": {
  "kernelspec": {
   "display_name": "Python 3",
   "language": "python",
   "name": "python3"
  },
  "language_info": {
   "codemirror_mode": {
    "name": "ipython",
    "version": 3
   },
   "file_extension": ".py",
   "mimetype": "text/x-python",
   "name": "python",
   "nbconvert_exporter": "python",
   "pygments_lexer": "ipython3",
   "version": "3.6.1"
  }
 },
 "nbformat": 4,
 "nbformat_minor": 2
}
